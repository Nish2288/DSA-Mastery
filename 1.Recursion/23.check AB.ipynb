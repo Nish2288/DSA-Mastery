{
 "cells": [
  {
   "cell_type": "markdown",
   "metadata": {},
   "source": [
    "Suppose you have a string, S, made up of only 'a's and 'b's. Write a recursive function that checks if the string was generated using the following rules:\n",
    "\n",
    "a. The string begins with an 'a'\n",
    "\n",
    "b. Each 'a' is followed by nothing or an 'a' or \"bb\"\n",
    "\n",
    "c. Each \"bb\" is followed by nothing or an 'a'"
   ]
  },
  {
   "cell_type": "code",
   "execution_count": 4,
   "metadata": {},
   "outputs": [],
   "source": [
    "def checkAB(s,flag,bflag):\n",
    "    if len(s)==0:\n",
    "        return flag\n",
    "    \n",
    "    if s[0] == \"a\":\n",
    "        flag = True\n",
    "        bflag = False\n",
    "    elif s[0]==\"b\" and s[1] == \"b\":\n",
    "        if bflag==True:\n",
    "            return false\n",
    "        else:\n",
    "            bflag = True\n",
    "            return checkAB(s[2:], flag, bflag)\n",
    "        \n",
    "        "
   ]
  },
  {
   "cell_type": "code",
   "execution_count": 5,
   "metadata": {},
   "outputs": [
    {
     "name": "stdout",
     "output_type": "stream",
     "text": [
      "abb\n",
      "False\n"
     ]
    }
   ],
   "source": [
    "s = input()\n",
    "flag = True\n",
    "bflag = False\n",
    "\n",
    "if checkAB(s,flag, bflag):\n",
    "    print(\"True\")\n",
    "else:\n",
    "    print(\"False\")"
   ]
  },
  {
   "cell_type": "code",
   "execution_count": null,
   "metadata": {},
   "outputs": [],
   "source": []
  }
 ],
 "metadata": {
  "kernelspec": {
   "display_name": "Python 3",
   "language": "python",
   "name": "python3"
  },
  "language_info": {
   "codemirror_mode": {
    "name": "ipython",
    "version": 3
   },
   "file_extension": ".py",
   "mimetype": "text/x-python",
   "name": "python",
   "nbconvert_exporter": "python",
   "pygments_lexer": "ipython3",
   "version": "3.7.7"
  }
 },
 "nbformat": 4,
 "nbformat_minor": 4
}

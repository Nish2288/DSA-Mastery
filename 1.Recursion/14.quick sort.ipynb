{
 "cells": [
  {
   "cell_type": "code",
   "execution_count": 14,
   "metadata": {},
   "outputs": [],
   "source": [
    "def findPivot(a,si,ei):\n",
    "    count = 0\n",
    "    pivot = a[si]\n",
    "    for i in range(si, ei+1):\n",
    "        if a[i]<pivot:\n",
    "            count += 1\n",
    "            \n",
    "    a[si+count], a[si] = a[si], a[si+count]\n",
    "    \n",
    "    i,j = si,ei\n",
    "    while i<j:\n",
    "        if a[i]<pivot:\n",
    "            i += 1\n",
    "        elif a[j] > pivot:\n",
    "            j -= 1\n",
    "        else:\n",
    "            a[i], a[j] = a[j], a[i]\n",
    "            i += 1\n",
    "            j -= 1\n",
    "            \n",
    "    return si+count"
   ]
  },
  {
   "cell_type": "code",
   "execution_count": 15,
   "metadata": {},
   "outputs": [],
   "source": [
    "def quickSort(a,si,ei):\n",
    "    if si > ei:\n",
    "        return\n",
    "    \n",
    "    pivot_index = findPivot(a,si,ei)\n",
    "    quickSort(a, si, pivot_index - 1)\n",
    "    quickSort(a, pivot_index + 1, ei)"
   ]
  },
  {
   "cell_type": "code",
   "execution_count": 16,
   "metadata": {},
   "outputs": [
    {
     "data": {
      "text/plain": [
       "[2, 3, 4, 1, 4, 4, 5, 8, 9]"
      ]
     },
     "execution_count": 16,
     "metadata": {},
     "output_type": "execute_result"
    }
   ],
   "source": [
    "a = [4, 5, 2, 4, 8, 9, 1, 4, 3]\n",
    "quickSort(a,0,len(a)-1)\n",
    "a"
   ]
  },
  {
   "cell_type": "code",
   "execution_count": null,
   "metadata": {},
   "outputs": [],
   "source": []
  }
 ],
 "metadata": {
  "kernelspec": {
   "display_name": "Python 3",
   "language": "python",
   "name": "python3"
  },
  "language_info": {
   "codemirror_mode": {
    "name": "ipython",
    "version": 3
   },
   "file_extension": ".py",
   "mimetype": "text/x-python",
   "name": "python",
   "nbconvert_exporter": "python",
   "pygments_lexer": "ipython3",
   "version": "3.7.7"
  }
 },
 "nbformat": 4,
 "nbformat_minor": 4
}

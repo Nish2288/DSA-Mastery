{
 "cells": [
  {
   "cell_type": "markdown",
   "metadata": {},
   "source": [
    "You have been given a linked list of integers. Your task is to write a function that deletes a node from a given position, 'POS'."
   ]
  },
  {
   "cell_type": "code",
   "execution_count": 1,
   "metadata": {},
   "outputs": [],
   "source": [
    "# Node class to create new node\n",
    "class Node:\n",
    "    def __init__(self, data):\n",
    "        self.data = data\n",
    "        self.next = None\n",
    "\n",
    "        \n",
    "def printLL(head):\n",
    "    head = head\n",
    "    while head is not None:\n",
    "        print(str(head.data)+\"->\",end=\"\")\n",
    "        head = head.next\n",
    "        \n",
    "    print(\"None\")\n",
    "\n",
    "def length(head):\n",
    "    head = head\n",
    "    count = 0\n",
    "    while head is not None:\n",
    "        count += 1\n",
    "        head = head.next\n",
    "    return count\n",
    "    \n",
    "    \n",
    "def deleteNode(head, pos):\n",
    "    if pos < 0 or pos > length(head) - 1:\n",
    "        return head\n",
    "\n",
    "    i = 0\n",
    "    prev = 0\n",
    "    current = head\n",
    "    while i < pos:\n",
    "        prev = current\n",
    "        current = current.next\n",
    "\n",
    "        i += 1\n",
    "\n",
    "    if pos == 0:\n",
    "        head = head.next\n",
    "    else:\n",
    "        prev.next = current.next\n",
    "\n",
    "    return head\n",
    "        \n",
    "    \n",
    "    \n",
    "    \n",
    "    \n",
    "    \n",
    "    \n",
    "# Function to take user input and create linked list. O(n^2)        \n",
    "def takeInput():\n",
    "\n",
    "    arr = [int(n) for n in input().split()]\n",
    "    head = None\n",
    "    for data in arr:\n",
    "        if data == -1:\n",
    "            break\n",
    "            \n",
    "        newNode = Node(data)\n",
    "        \n",
    "        if head is None:\n",
    "            head = newNode\n",
    "        else:\n",
    "            currentNode = head\n",
    "            while currentNode.next is not None:\n",
    "                currentNode = currentNode.next\n",
    "            currentNode.next = newNode\n",
    "\n",
    "    return head"
   ]
  },
  {
   "cell_type": "code",
   "execution_count": 2,
   "metadata": {},
   "outputs": [
    {
     "name": "stdout",
     "output_type": "stream",
     "text": [
      "1 2 3 4 5 -1\n",
      "1->2->3->4->5->None\n"
     ]
    }
   ],
   "source": [
    "head = takeInput()\n",
    "printLL(head)"
   ]
  },
  {
   "cell_type": "code",
   "execution_count": 3,
   "metadata": {},
   "outputs": [
    {
     "name": "stdout",
     "output_type": "stream",
     "text": [
      "1->2->4->5->None\n"
     ]
    }
   ],
   "source": [
    "head = deleteNode(head, 2)\n",
    "printLL(head)"
   ]
  },
  {
   "cell_type": "code",
   "execution_count": null,
   "metadata": {},
   "outputs": [],
   "source": []
  }
 ],
 "metadata": {
  "kernelspec": {
   "display_name": "Python 3",
   "language": "python",
   "name": "python3"
  },
  "language_info": {
   "codemirror_mode": {
    "name": "ipython",
    "version": 3
   },
   "file_extension": ".py",
   "mimetype": "text/x-python",
   "name": "python",
   "nbconvert_exporter": "python",
   "pygments_lexer": "ipython3",
   "version": "3.7.7"
  }
 },
 "nbformat": 4,
 "nbformat_minor": 4
}

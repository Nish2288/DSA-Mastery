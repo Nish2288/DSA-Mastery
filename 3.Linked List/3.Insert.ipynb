{
 "cells": [
  {
   "cell_type": "markdown",
   "metadata": {},
   "source": [
    "### Insert data at ith position."
   ]
  },
  {
   "cell_type": "code",
   "execution_count": 23,
   "metadata": {},
   "outputs": [],
   "source": [
    "# Node class to create new node\n",
    "class Node:\n",
    "    def __init__(self, data):\n",
    "        self.data = data\n",
    "        self.next = None\n",
    "\n",
    "        \n",
    "def printLL(head):\n",
    "    head = head\n",
    "    while head is not None:\n",
    "        print(str(head.data)+\"->\",end=\"\")\n",
    "        head = head.next\n",
    "        \n",
    "    print(\"None\")\n",
    "\n",
    "def length(head):\n",
    "    head = head\n",
    "    count = 0\n",
    "    while head is not None:\n",
    "        count += 1\n",
    "        head = head.next\n",
    "    return count\n",
    "    \n",
    "    \n",
    "# Function to insert\n",
    "def insertAtI(head, i, data):\n",
    "    if i<0 or i>length(head):\n",
    "        return head\n",
    "    \n",
    "    count = 0\n",
    "    prev = None\n",
    "    current = head\n",
    "    while count < i:\n",
    "        prev = current\n",
    "        current = current.next\n",
    "        count += 1\n",
    "        \n",
    "    newNode = Node(data)\n",
    "    if prev is not None:\n",
    "        prev.next = newNode\n",
    "    else:\n",
    "        head = newNode        \n",
    "\n",
    "    newNode.next = current \n",
    "    \n",
    "    return head\n",
    "    \n",
    "    \n",
    "    \n",
    "    \n",
    "    \n",
    "# Function to take user input and create linked list. O(n^2)        \n",
    "def takeInput():\n",
    "\n",
    "    arr = [int(n) for n in input().split()]\n",
    "    head = None\n",
    "    for data in arr:\n",
    "        if data == -1:\n",
    "            break\n",
    "            \n",
    "        newNode = Node(data)\n",
    "        \n",
    "        if head is None:\n",
    "            head = newNode\n",
    "        else:\n",
    "            currentNode = head\n",
    "            while currentNode.next is not None:\n",
    "                currentNode = currentNode.next\n",
    "            currentNode.next = newNode\n",
    "\n",
    "    return head"
   ]
  },
  {
   "cell_type": "code",
   "execution_count": 19,
   "metadata": {},
   "outputs": [
    {
     "name": "stdout",
     "output_type": "stream",
     "text": [
      "1 2 3 4 -1\n",
      "1->2->3->4->None\n"
     ]
    }
   ],
   "source": [
    "head = takeInput()\n",
    "printLL(head)"
   ]
  },
  {
   "cell_type": "code",
   "execution_count": 20,
   "metadata": {},
   "outputs": [
    {
     "name": "stdout",
     "output_type": "stream",
     "text": [
      "1->10->2->3->4->None\n"
     ]
    }
   ],
   "source": [
    "head = insertAtI(head, 1, 10)\n",
    "printLL(head)"
   ]
  },
  {
   "cell_type": "code",
   "execution_count": 21,
   "metadata": {},
   "outputs": [
    {
     "name": "stdout",
     "output_type": "stream",
     "text": [
      "1->10->2->3->4->50->None\n"
     ]
    }
   ],
   "source": [
    "head = insertAtI(head, 5, 50)\n",
    "printLL(head)"
   ]
  },
  {
   "cell_type": "code",
   "execution_count": 24,
   "metadata": {},
   "outputs": [
    {
     "name": "stdout",
     "output_type": "stream",
     "text": [
      "100->1->10->2->3->4->50->None\n"
     ]
    }
   ],
   "source": [
    "head = insertAtI(head, 0, 100)\n",
    "printLL(head)"
   ]
  },
  {
   "cell_type": "code",
   "execution_count": null,
   "metadata": {},
   "outputs": [],
   "source": []
  }
 ],
 "metadata": {
  "kernelspec": {
   "display_name": "Python 3",
   "language": "python",
   "name": "python3"
  },
  "language_info": {
   "codemirror_mode": {
    "name": "ipython",
    "version": 3
   },
   "file_extension": ".py",
   "mimetype": "text/x-python",
   "name": "python",
   "nbconvert_exporter": "python",
   "pygments_lexer": "ipython3",
   "version": "3.7.7"
  }
 },
 "nbformat": 4,
 "nbformat_minor": 4
}

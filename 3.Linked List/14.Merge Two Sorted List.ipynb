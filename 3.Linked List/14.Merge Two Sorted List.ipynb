{
 "cells": [
  {
   "cell_type": "code",
   "execution_count": 12,
   "metadata": {},
   "outputs": [],
   "source": [
    "# Node class to create new node\n",
    "class Node:\n",
    "    def __init__(self, data):\n",
    "        self.data = data\n",
    "        self.next = None\n",
    "\n",
    "        \n",
    "def printLL(head):\n",
    "    head = head\n",
    "    while head is not None:\n",
    "        print(str(head.data)+\"->\",end=\"\")\n",
    "        head = head.next\n",
    "        \n",
    "    print(\"None\")\n",
    "\n",
    "def length(head):\n",
    "    head = head\n",
    "    count = 0\n",
    "    while head is not None:\n",
    "        count += 1\n",
    "        head = head.next\n",
    "    return count\n",
    "    \n",
    "    \n",
    "def printLinkedList(head) :\n",
    "\n",
    "    while head is not None :\n",
    "        print(head.data, end = \" \")\n",
    "        head = head.next\n",
    "\n",
    "    print()\n",
    "\n",
    "def mergeTwoSortedLinkedLists(head1, head2):\n",
    "    if head1 == None and head2 == None:\n",
    "        return None\n",
    "    elif head1 == None:\n",
    "        return head2\n",
    "    elif head2 == None:\n",
    "        return head1\n",
    "\n",
    "    # Write your code here\n",
    "    head,tail = None,None\n",
    "    if head1.data<=head2.data:\n",
    "        head,tail = head1, head1\n",
    "        head1 = head1.next\n",
    "    else:\n",
    "        head, tail = head2, head2\n",
    "        head2 = head2.next\n",
    "        \n",
    "    while head1 != None and head2 != None:\n",
    "        if head1.data<head2.data:\n",
    "            tail.next = head1\n",
    "            tail = tail.next\n",
    "            head1 = head1.next\n",
    "            \n",
    "        else:\n",
    "            tail.next = head2\n",
    "            tail = tail.next\n",
    "            head2 = head2.next\n",
    "            \n",
    "    if head1 != None:\n",
    "        tail.next = head1\n",
    "        head1 = head1.next\n",
    "        tail = tail.next\n",
    "    else:\n",
    "        tail.next = head2\n",
    "        head2 = head2.next\n",
    "        tail = tail.next\n",
    "        \n",
    "    return head  \n",
    "    \n",
    "    \n",
    "    \n",
    "# Function to take user input and create linked list. O(n^2)        \n",
    "def takeInput():\n",
    "\n",
    "    arr = [int(n) for n in input().split()]\n",
    "    head = None\n",
    "    for data in arr:\n",
    "        if data == -1:\n",
    "            break\n",
    "            \n",
    "        newNode = Node(data)\n",
    "        \n",
    "        if head is None:\n",
    "            head = newNode\n",
    "        else:\n",
    "            currentNode = head\n",
    "            while currentNode.next is not None:\n",
    "                currentNode = currentNode.next\n",
    "            currentNode.next = newNode\n",
    "\n",
    "    return head"
   ]
  },
  {
   "cell_type": "code",
   "execution_count": 13,
   "metadata": {},
   "outputs": [
    {
     "name": "stdout",
     "output_type": "stream",
     "text": [
      "1 3 5 7\n",
      "1->3->5->7->None\n",
      "2 4 6 8\n",
      "2->4->6->8->None\n"
     ]
    }
   ],
   "source": [
    "head1 = takeInput()\n",
    "printLL(head1)\n",
    "head2 = takeInput()\n",
    "printLL(head2)"
   ]
  },
  {
   "cell_type": "code",
   "execution_count": 14,
   "metadata": {},
   "outputs": [
    {
     "name": "stdout",
     "output_type": "stream",
     "text": [
      "1->2->3->4->5->6->7->8->None\n"
     ]
    }
   ],
   "source": [
    "head = mergeTwoSortedLinkedLists(head1, head2)\n",
    "printLL(head)"
   ]
  },
  {
   "cell_type": "code",
   "execution_count": null,
   "metadata": {},
   "outputs": [],
   "source": []
  }
 ],
 "metadata": {
  "kernelspec": {
   "display_name": "Python 3",
   "language": "python",
   "name": "python3"
  },
  "language_info": {
   "codemirror_mode": {
    "name": "ipython",
    "version": 3
   },
   "file_extension": ".py",
   "mimetype": "text/x-python",
   "name": "python",
   "nbconvert_exporter": "python",
   "pygments_lexer": "ipython3",
   "version": "3.7.7"
  }
 },
 "nbformat": 4,
 "nbformat_minor": 4
}

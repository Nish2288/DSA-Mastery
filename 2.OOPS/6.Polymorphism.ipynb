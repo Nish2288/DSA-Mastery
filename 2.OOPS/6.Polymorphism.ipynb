{
 "cells": [
  {
   "cell_type": "code",
   "execution_count": 15,
   "metadata": {},
   "outputs": [],
   "source": [
    "# Parent class\n",
    "class Person:\n",
    "    def __init__(self,fname,lname):\n",
    "        # Public\n",
    "        self.fname = fname\n",
    "        # Private\n",
    "        self.__lname = lname\n",
    "        \n",
    "    def display(self):\n",
    "        print(\"Parent method.\")"
   ]
  },
  {
   "cell_type": "code",
   "execution_count": 16,
   "metadata": {},
   "outputs": [],
   "source": [
    "# Child class\n",
    "class Student(Person):\n",
    "    def __init__(self,fname,lname,marks):\n",
    "        # Parent attributes\n",
    "        Person.fname = fname\n",
    "        Person.__lname = lname\n",
    "        \n",
    "        # child attributes\n",
    "        self.marks = marks\n",
    "        \n",
    "    def display(self):\n",
    "        print(\"Child method.\")"
   ]
  },
  {
   "cell_type": "code",
   "execution_count": 17,
   "metadata": {},
   "outputs": [],
   "source": [
    "s = Student(\"Kane\", \"Will\", 92)"
   ]
  },
  {
   "cell_type": "code",
   "execution_count": 18,
   "metadata": {},
   "outputs": [
    {
     "name": "stdout",
     "output_type": "stream",
     "text": [
      "Child method.\n"
     ]
    }
   ],
   "source": [
    "# Call child class method\n",
    "s.display()"
   ]
  },
  {
   "cell_type": "code",
   "execution_count": 20,
   "metadata": {},
   "outputs": [
    {
     "name": "stdout",
     "output_type": "stream",
     "text": [
      "Parent method.\n"
     ]
    }
   ],
   "source": [
    "# Call parent class method\n",
    "\n",
    "p = Person(\"Sam\", \"Dane\")\n",
    "p.display()"
   ]
  },
  {
   "cell_type": "code",
   "execution_count": null,
   "metadata": {},
   "outputs": [],
   "source": []
  }
 ],
 "metadata": {
  "kernelspec": {
   "display_name": "Python 3",
   "language": "python",
   "name": "python3"
  },
  "language_info": {
   "codemirror_mode": {
    "name": "ipython",
    "version": 3
   },
   "file_extension": ".py",
   "mimetype": "text/x-python",
   "name": "python",
   "nbconvert_exporter": "python",
   "pygments_lexer": "ipython3",
   "version": "3.7.7"
  }
 },
 "nbformat": 4,
 "nbformat_minor": 4
}

{
 "cells": [
  {
   "cell_type": "code",
   "execution_count": 44,
   "metadata": {},
   "outputs": [],
   "source": [
    "class Student:\n",
    "    # class attributes\n",
    "    std = 10\n",
    "    \n",
    "    def __init__(self, name,marks):\n",
    "        self.name = name\n",
    "        self.marks = marks\n",
    "    \n",
    "    # Instance Method\n",
    "    def getMarks(self):\n",
    "        return self.marks\n",
    "    \n",
    "    # Instance Method\n",
    "    def result(self, pass_limit=60):\n",
    "        if self.marks > pass_limit:\n",
    "            return \"Pass\"\n",
    "        else:\n",
    "            return \"Fail\"\n",
    "        \n",
    "    # static method\n",
    "    @staticmethod\n",
    "    def check_marks(mark):\n",
    "        return int(mark)\n",
    "    \n",
    "    @classmethod\n",
    "    def get_attributes_fromstring(cls, user_input:str):\n",
    "        name, marks  = user_input.split()\n",
    "        return Student(name.capitalize(), cls.check_marks(marks))"
   ]
  },
  {
   "cell_type": "code",
   "execution_count": 38,
   "metadata": {},
   "outputs": [],
   "source": [
    "# Create Instance\n",
    "\n",
    "s1 = Student(\"john\", 50)\n",
    "s2 = Student(\"Mark\", 80)"
   ]
  },
  {
   "cell_type": "code",
   "execution_count": 39,
   "metadata": {},
   "outputs": [
    {
     "name": "stdout",
     "output_type": "stream",
     "text": [
      "50\n",
      "80\n"
     ]
    }
   ],
   "source": [
    "# Call instance method\n",
    "\n",
    "print(s1.getMarks())\n",
    "print(s2.getMarks())"
   ]
  },
  {
   "cell_type": "code",
   "execution_count": 40,
   "metadata": {},
   "outputs": [
    {
     "name": "stdout",
     "output_type": "stream",
     "text": [
      "Fail\n",
      "Pass\n"
     ]
    }
   ],
   "source": [
    "print(s1.result())\n",
    "print(s2.result())"
   ]
  },
  {
   "cell_type": "code",
   "execution_count": 43,
   "metadata": {},
   "outputs": [
    {
     "data": {
      "text/plain": [
       "77"
      ]
     },
     "execution_count": 43,
     "metadata": {},
     "output_type": "execute_result"
    }
   ],
   "source": [
    "# call static method\n",
    "s1.check_marks(78.5)\n",
    "\n",
    "# or\n",
    "\n",
    "Student.check_marks(77.5)"
   ]
  },
  {
   "cell_type": "code",
   "execution_count": 45,
   "metadata": {},
   "outputs": [],
   "source": [
    "# class method to modify class attributes\n",
    "classObj = Student.get_attributes_fromstring(\"Kane 95\")"
   ]
  },
  {
   "cell_type": "code",
   "execution_count": 46,
   "metadata": {},
   "outputs": [
    {
     "data": {
      "text/plain": [
       "{'name': 'Kane', 'marks': 95}"
      ]
     },
     "execution_count": 46,
     "metadata": {},
     "output_type": "execute_result"
    }
   ],
   "source": [
    "classObj.__dict__"
   ]
  },
  {
   "cell_type": "code",
   "execution_count": 51,
   "metadata": {},
   "outputs": [
    {
     "name": "stdout",
     "output_type": "stream",
     "text": [
      "Kane\n",
      "95\n"
     ]
    }
   ],
   "source": [
    "print(classObj.name)\n",
    "print(classObj.marks)"
   ]
  },
  {
   "cell_type": "code",
   "execution_count": null,
   "metadata": {},
   "outputs": [],
   "source": []
  }
 ],
 "metadata": {
  "kernelspec": {
   "display_name": "Python 3",
   "language": "python",
   "name": "python3"
  },
  "language_info": {
   "codemirror_mode": {
    "name": "ipython",
    "version": 3
   },
   "file_extension": ".py",
   "mimetype": "text/x-python",
   "name": "python",
   "nbconvert_exporter": "python",
   "pygments_lexer": "ipython3",
   "version": "3.7.7"
  }
 },
 "nbformat": 4,
 "nbformat_minor": 4
}

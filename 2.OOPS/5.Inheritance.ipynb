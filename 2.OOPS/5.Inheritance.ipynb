{
 "cells": [
  {
   "cell_type": "code",
   "execution_count": 17,
   "metadata": {},
   "outputs": [],
   "source": [
    "# Parent class\n",
    "class Person:\n",
    "    def __init_(self,fname,lname):\n",
    "        # Public\n",
    "        self.fname = fname\n",
    "        # Private\n",
    "        self.__lname = lname\n",
    "        \n",
    "    # Private function\n",
    "    def __parent_private_method(self):\n",
    "        print(\"This is private method of parent\")"
   ]
  },
  {
   "cell_type": "code",
   "execution_count": 25,
   "metadata": {},
   "outputs": [],
   "source": [
    "# Child class\n",
    "class Student(Person):\n",
    "    def __init__(self,fname,lname,marks):\n",
    "        # Parent attributes\n",
    "        Person.fname = fname\n",
    "        Person.__lname = lname\n",
    "        \n",
    "        # child attributes\n",
    "        self.marks = marks\n",
    "        \n",
    "    def show_parent_attributes(self):\n",
    "        print(Person.fname,Person.__lname,self.marks)\n",
    "        \n",
    "    def run_parent_private_method(self):\n",
    "        self._Person__parent_private_method()"
   ]
  },
  {
   "cell_type": "code",
   "execution_count": 26,
   "metadata": {},
   "outputs": [],
   "source": [
    "s = Student(\"Mark\", \"wood\", 80)"
   ]
  },
  {
   "cell_type": "code",
   "execution_count": 27,
   "metadata": {},
   "outputs": [
    {
     "data": {
      "text/plain": [
       "{'marks': 80}"
      ]
     },
     "execution_count": 27,
     "metadata": {},
     "output_type": "execute_result"
    }
   ],
   "source": [
    "s.__dict__"
   ]
  },
  {
   "cell_type": "code",
   "execution_count": 28,
   "metadata": {},
   "outputs": [
    {
     "name": "stdout",
     "output_type": "stream",
     "text": [
      "Mark\n",
      "80\n"
     ]
    }
   ],
   "source": [
    "print(s.fname)\n",
    "print(s.marks)"
   ]
  },
  {
   "cell_type": "code",
   "execution_count": 29,
   "metadata": {},
   "outputs": [
    {
     "name": "stdout",
     "output_type": "stream",
     "text": [
      "Mark wood 80\n"
     ]
    }
   ],
   "source": [
    "s.show_parent_attributes()"
   ]
  },
  {
   "cell_type": "code",
   "execution_count": 24,
   "metadata": {},
   "outputs": [
    {
     "name": "stdout",
     "output_type": "stream",
     "text": [
      "Mark wood 80\n"
     ]
    }
   ],
   "source": [
    "# Get parent private attributes\n",
    "s.show_parent_attributes()"
   ]
  },
  {
   "cell_type": "code",
   "execution_count": 30,
   "metadata": {},
   "outputs": [
    {
     "name": "stdout",
     "output_type": "stream",
     "text": [
      "This is private method of parent\n"
     ]
    }
   ],
   "source": [
    "s.run_parent_private_method()"
   ]
  },
  {
   "cell_type": "code",
   "execution_count": 31,
   "metadata": {},
   "outputs": [
    {
     "name": "stdout",
     "output_type": "stream",
     "text": [
      "This is private method of parent\n"
     ]
    }
   ],
   "source": [
    "s._Person__parent_private_method()"
   ]
  },
  {
   "cell_type": "code",
   "execution_count": null,
   "metadata": {},
   "outputs": [],
   "source": []
  },
  {
   "cell_type": "markdown",
   "metadata": {},
   "source": [
    "## Super() function"
   ]
  },
  {
   "cell_type": "code",
   "execution_count": 106,
   "metadata": {},
   "outputs": [],
   "source": [
    "# Parent class\n",
    "class Person():\n",
    "    def __init__(self,fname,lname):\n",
    "        # Public\n",
    "        self.fname = fname\n",
    "        # Private\n",
    "        self.lname = lname\n",
    "        \n",
    "    # Private function\n",
    "    def __parent_private_method(self):\n",
    "        print(\"This is private method of parent\")"
   ]
  },
  {
   "cell_type": "code",
   "execution_count": 107,
   "metadata": {},
   "outputs": [],
   "source": [
    "# Child class\n",
    "class Student(Person):\n",
    "    def __init__(self,fname,lname,marks):\n",
    "        super().__init__(fname, lname)\n",
    "        self.marks = marks\n",
    "    \n",
    "    def show_parent_attributes(self):\n",
    "        print(Person.fname,Person.lname,self.marks)\n",
    "        \n",
    "    def run_parent_private_method(self):\n",
    "        self._Person__parent_private_method()"
   ]
  },
  {
   "cell_type": "code",
   "execution_count": 108,
   "metadata": {
    "scrolled": true
   },
   "outputs": [],
   "source": [
    "s = Student(\"john\", \"cena\",77)"
   ]
  },
  {
   "cell_type": "code",
   "execution_count": 109,
   "metadata": {},
   "outputs": [
    {
     "data": {
      "text/plain": [
       "{'fname': 'john', 'lname': 'cena', 'marks': 77}"
      ]
     },
     "execution_count": 109,
     "metadata": {},
     "output_type": "execute_result"
    }
   ],
   "source": [
    "s.__dict__"
   ]
  },
  {
   "cell_type": "code",
   "execution_count": 110,
   "metadata": {},
   "outputs": [
    {
     "data": {
      "text/plain": [
       "'john'"
      ]
     },
     "execution_count": 110,
     "metadata": {},
     "output_type": "execute_result"
    }
   ],
   "source": [
    "s.fname"
   ]
  },
  {
   "cell_type": "code",
   "execution_count": null,
   "metadata": {},
   "outputs": [],
   "source": []
  }
 ],
 "metadata": {
  "kernelspec": {
   "display_name": "Python 3",
   "language": "python",
   "name": "python3"
  },
  "language_info": {
   "codemirror_mode": {
    "name": "ipython",
    "version": 3
   },
   "file_extension": ".py",
   "mimetype": "text/x-python",
   "name": "python",
   "nbconvert_exporter": "python",
   "pygments_lexer": "ipython3",
   "version": "3.7.7"
  }
 },
 "nbformat": 4,
 "nbformat_minor": 4
}
